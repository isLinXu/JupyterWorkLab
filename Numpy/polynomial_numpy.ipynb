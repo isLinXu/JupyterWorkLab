{
 "cells": [
  {
   "cell_type": "markdown",
   "source": [
    "NUMPY\n",
    "\n",
    "三阶多项式，经过训练可以预测y=\\sin(x)是的=s我n ( x )从-\\pi- π 到圆周率pi _通过最小化平方欧几里得距离。\n",
    "\n",
    "此实现使用 numpy 手动计算前向传递、损失和后向传递。\n",
    "\n",
    "numpy 数组是一个通用的 n 维数组；它对深度学习、梯度或计算图一无所知，只是一种执行通用数值计算的方法。"
   ],
   "metadata": {
    "collapsed": false,
    "pycharm": {
     "name": "#%% md\n"
    }
   }
  },
  {
   "cell_type": "code",
   "execution_count": 1,
   "outputs": [
    {
     "name": "stdout",
     "output_type": "stream",
     "text": [
      "99 648.1196726229703\n",
      "199 436.75021449094044\n",
      "299 295.4700416343693\n",
      "399 200.97206009504504\n",
      "499 137.72350566845142\n",
      "599 95.36133504212789\n",
      "699 66.96787982563671\n",
      "799 47.922759455344426\n",
      "899 35.138144124802366\n",
      "999 26.54913469467015\n",
      "1099 20.773989891529222\n",
      "1199 16.887479662920455\n",
      "1299 14.269619680614966\n",
      "1399 12.504659572562012\n",
      "1499 11.313590115011268\n",
      "1599 10.509019123170138\n",
      "1699 9.96498320706402\n",
      "1799 9.59673816867188\n",
      "1899 9.347220168650004\n",
      "1999 9.177969168511957\n",
      "Result: y = -0.013268973874186282 + 0.8428683073904041 x + 0.002289118789975452 x^2 + -0.09135714164274156 x^3\n"
     ]
    }
   ],
   "source": [
    "import numpy as np\n",
    "import math\n",
    "\n",
    "# Create random input and output data\n",
    "x = np.linspace(-math.pi, math.pi, 2000)\n",
    "y = np.sin(x)\n",
    "\n",
    "# Randomly initialize weights\n",
    "a = np.random.randn()\n",
    "b = np.random.randn()\n",
    "c = np.random.randn()\n",
    "d = np.random.randn()\n",
    "\n",
    "learning_rate = 1e-6\n",
    "for t in range(2000):\n",
    "    # Forward pass: compute predicted y\n",
    "    # y = a + b x + c x^2 + d x^3\n",
    "    y_pred = a + b * x + c * x ** 2 + d * x ** 3\n",
    "\n",
    "    # Compute and print loss\n",
    "    loss = np.square(y_pred - y).sum()\n",
    "    if t % 100 == 99:\n",
    "        print(t, loss)\n",
    "\n",
    "    # Backprop to compute gradients of a, b, c, d with respect to loss\n",
    "    grad_y_pred = 2.0 * (y_pred - y)\n",
    "    grad_a = grad_y_pred.sum()\n",
    "    grad_b = (grad_y_pred * x).sum()\n",
    "    grad_c = (grad_y_pred * x ** 2).sum()\n",
    "    grad_d = (grad_y_pred * x ** 3).sum()\n",
    "\n",
    "    # Update weights\n",
    "    a -= learning_rate * grad_a\n",
    "    b -= learning_rate * grad_b\n",
    "    c -= learning_rate * grad_c\n",
    "    d -= learning_rate * grad_d\n",
    "\n",
    "print(f'Result: y = {a} + {b} x + {c} x^2 + {d} x^3')"
   ],
   "metadata": {
    "collapsed": false,
    "pycharm": {
     "name": "#%%\n"
    }
   }
  }
 ],
 "metadata": {
  "kernelspec": {
   "display_name": "Python 3",
   "language": "python",
   "name": "python3"
  },
  "language_info": {
   "codemirror_mode": {
    "name": "ipython",
    "version": 2
   },
   "file_extension": ".py",
   "mimetype": "text/x-python",
   "name": "python",
   "nbconvert_exporter": "python",
   "pygments_lexer": "ipython2",
   "version": "2.7.6"
  }
 },
 "nbformat": 4,
 "nbformat_minor": 0
}