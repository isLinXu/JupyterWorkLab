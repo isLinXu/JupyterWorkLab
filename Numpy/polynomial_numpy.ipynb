{
 "cells": [
  {
   "cell_type": "markdown",
   "source": [
    "NUMPY\n",
    "\n",
    "三阶多项式，经过训练可以预测y=\\sin(x)是的=s我n ( x )从-\\pi- π 到圆周率pi _通过最小化平方欧几里得距离。\n",
    "\n",
    "此实现使用 numpy 手动计算前向传递、损失和后向传递。\n",
    "\n",
    "numpy 数组是一个通用的 n 维数组；它对深度学习、梯度或计算图一无所知，只是一种执行通用数值计算的方法。"
   ],
   "metadata": {
    "collapsed": false,
    "pycharm": {
     "name": "#%% md\n"
    }
   }
  },
  {
   "cell_type": "code",
   "execution_count": 2,
   "outputs": [
    {
     "name": "stdout",
     "output_type": "stream",
     "text": [
      "99 64.34538616854351\n",
      "199 47.93944582450969\n",
      "299 36.38890570243777\n",
      "399 28.253500725713522\n",
      "499 22.521827882862485\n",
      "599 18.48256829157156\n",
      "699 15.63526674715842\n",
      "799 13.627699956307186\n",
      "899 12.211889138821338\n",
      "999 11.21319317156296\n",
      "1099 10.508583364576426\n",
      "1199 10.011366151308078\n",
      "1299 9.660435936347355\n",
      "1399 9.41271208164136\n",
      "1499 9.237814848007982\n",
      "1599 9.114316277927891\n",
      "1699 9.027099333570234\n",
      "1799 8.965497157840872\n",
      "1899 8.921981656239872\n",
      "1999 8.891238998388555\n",
      "Result: y = 0.009021831297355051 + 0.8579019976053488 x + -0.001556416022714533 x^2 + -0.09349555316129124 x^3\n"
     ]
    }
   ],
   "source": [
    "import numpy as np\n",
    "import math\n",
    "\n",
    "# Create random input and output data\n",
    "x = np.linspace(-math.pi, math.pi, 2000)\n",
    "y = np.sin(x)\n",
    "\n",
    "# Randomly initialize weights\n",
    "a = np.random.randn()\n",
    "b = np.random.randn()\n",
    "c = np.random.randn()\n",
    "d = np.random.randn()\n",
    "\n",
    "learning_rate = 1e-6\n",
    "for t in range(2000):\n",
    "    # Forward pass: compute predicted y\n",
    "    # y = a + b x + c x^2 + d x^3\n",
    "    y_pred = a + b * x + c * x ** 2 + d * x ** 3\n",
    "\n",
    "    # Compute and print loss\n",
    "    loss = np.square(y_pred - y).sum()\n",
    "    if t % 100 == 99:\n",
    "        print(t, loss)\n",
    "\n",
    "    # Backprop to compute gradients of a, b, c, d with respect to loss\n",
    "    grad_y_pred = 2.0 * (y_pred - y)\n",
    "    grad_a = grad_y_pred.sum()\n",
    "    grad_b = (grad_y_pred * x).sum()\n",
    "    grad_c = (grad_y_pred * x ** 2).sum()\n",
    "    grad_d = (grad_y_pred * x ** 3).sum()\n",
    "\n",
    "    # Update weights\n",
    "    a -= learning_rate * grad_a\n",
    "    b -= learning_rate * grad_b\n",
    "    c -= learning_rate * grad_c\n",
    "    d -= learning_rate * grad_d\n",
    "\n",
    "print(f'Result: y = {a} + {b} x + {c} x^2 + {d} x^3')"
   ],
   "metadata": {
    "collapsed": false,
    "pycharm": {
     "name": "#%%\n"
    }
   }
  },
  {
   "cell_type": "code",
   "execution_count": null,
   "outputs": [],
   "source": [],
   "metadata": {
    "collapsed": false,
    "pycharm": {
     "name": "#%%\n"
    }
   }
  }
 ],
 "metadata": {
  "kernelspec": {
   "display_name": "Python 3",
   "language": "python",
   "name": "python3"
  },
  "language_info": {
   "codemirror_mode": {
    "name": "ipython",
    "version": 2
   },
   "file_extension": ".py",
   "mimetype": "text/x-python",
   "name": "python",
   "nbconvert_exporter": "python",
   "pygments_lexer": "ipython2",
   "version": "2.7.6"
  }
 },
 "nbformat": 4,
 "nbformat_minor": 0
}