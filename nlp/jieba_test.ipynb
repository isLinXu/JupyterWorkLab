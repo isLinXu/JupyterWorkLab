{
 "cells": [
  {
   "cell_type": "markdown",
   "source": [
    "# 使用 jieba 实现关键词提取"
   ],
   "metadata": {
    "collapsed": false,
    "pycharm": {
     "name": "#%% md\n"
    }
   }
  },
  {
   "cell_type": "markdown",
   "source": [
    "关键词是指能反映文本主题或者意思的词语，类似论文中的 Keyword 字段。\n",
    "关键词是一篇文档中表达的主要话题。处理文档或句子时，提取关键词是最重要的工作之一，这在NLP中也是一个十分重要的任务。\n",
    "常见的关键词提取方法有：TF-IDF关键词提取方法和 TextRank 关键词提取。"
   ],
   "metadata": {
    "collapsed": false,
    "pycharm": {
     "name": "#%% md\n"
    }
   }
  },
  {
   "cell_type": "code",
   "execution_count": 3,
   "outputs": [],
   "source": [
    "# 引入库\n",
    "import jieba.analyse"
   ],
   "metadata": {
    "collapsed": false,
    "pycharm": {
     "name": "#%%\n"
    }
   }
  },
  {
   "cell_type": "code",
   "execution_count": 4,
   "outputs": [],
   "source": [
    "sent = '你是风儿我是沙，缠缠绵绵走天涯'"
   ],
   "metadata": {
    "collapsed": false,
    "pycharm": {
     "name": "#%%\n"
    }
   }
  },
  {
   "cell_type": "code",
   "execution_count": 5,
   "outputs": [
    {
     "name": "stderr",
     "output_type": "stream",
     "text": [
      "Building prefix dict from the default dictionary ...\n",
      "Dumping model to file cache /tmp/jieba.cache\n",
      "Loading model cost 0.692 seconds.\n",
      "Prefix dict has been built successfully.\n"
     ]
    },
    {
     "name": "stdout",
     "output_type": "stream",
     "text": [
      "缠缠绵绵\n",
      "风儿\n",
      "天涯\n"
     ]
    }
   ],
   "source": [
    "res = jieba.analyse.extract_tags(sent)\n",
    "for i in res:\n",
    "    print(i)"
   ],
   "metadata": {
    "collapsed": false,
    "pycharm": {
     "name": "#%%\n"
    }
   }
  },
  {
   "cell_type": "code",
   "execution_count": 6,
   "outputs": [
    {
     "name": "stdout",
     "output_type": "stream",
     "text": [
      "缠缠绵绵 4.2673551211000005\n",
      "风儿 3.547527038\n",
      "天涯 3.1411136125\n"
     ]
    }
   ],
   "source": [
    "res = jieba.analyse.extract_tags(sent, withWeight=True)\n",
    "for word, weight in res:\n",
    "    print('%s %s'%(word, weight))"
   ],
   "metadata": {
    "collapsed": false,
    "pycharm": {
     "name": "#%%\n"
    }
   }
  },
  {
   "cell_type": "code",
   "execution_count": 7,
   "outputs": [
    {
     "name": "stdout",
     "output_type": "stream",
     "text": [
      "北京故宫 0.65416815296875\n",
      "中轴线 0.5989493461525\n",
      "明清两代 0.59413928108125\n",
      "精华 0.51356861779\n",
      "紫禁城 0.489805777705625\n"
     ]
    }
   ],
   "source": [
    "sent = '北京故宫是中国明清两代的皇家宫殿，旧称为紫禁城，位于北京中轴线的中心，是中国古代宫廷建筑之精华。'\n",
    "res = jieba.analyse.extract_tags(sent, topK=5, withWeight=True)\n",
    "for word, weight in res:\n",
    "    print('%s %s'%(word, weight))"
   ],
   "metadata": {
    "collapsed": false,
    "pycharm": {
     "name": "#%%\n"
    }
   }
  },
  {
   "cell_type": "code",
   "execution_count": 9,
   "outputs": [],
   "source": [
    "sent = '你是风儿我是沙，缠缠绵绵走天涯'"
   ],
   "metadata": {
    "collapsed": false,
    "pycharm": {
     "name": "#%%\n"
    }
   }
  },
  {
   "cell_type": "code",
   "execution_count": 10,
   "outputs": [
    {
     "name": "stdout",
     "output_type": "stream",
     "text": [
      "缠缠绵绵 1.0000\n",
      "天涯 0.9961\n"
     ]
    }
   ],
   "source": [
    "res = jieba.analyse.textrank(sent, topK=20, withWeight=True, allowPOS=('ns', 'n', 'vn', 'v', 'nr', 'nrt', 'z', 'r', 'x'))\n",
    "for word, weight in res:\n",
    "    print('%s %.4f'%(word, weight))"
   ],
   "metadata": {
    "collapsed": false,
    "pycharm": {
     "name": "#%%\n"
    }
   }
  },
  {
   "cell_type": "code",
   "execution_count": 11,
   "outputs": [
    {
     "name": "stdout",
     "output_type": "stream",
     "text": [
      "北京时间3月24日，凯尔特人后来居上，客场以105-100击败了开拓者。|　　凯尔特人（49-23）二连胜。马库斯-莫里斯三分球6投5中，拿下了30分，特里-罗齐尔16分，杰森-塔图姆13分、6个篮板和4次助攻，艾尔-霍福德11分。[绿军诠释何为铁血之师！篮球大师打造你的梦幻阵容]|　　开拓者（44-28）二连败，仍保持西部第三的位置。达米安-利拉德26分8次助攻，CJ-迈克科伦姆26分7个篮板，艾尔-阿米努16分、10个篮板和5个抢断，约瑟夫-纽基奇8分。|　　凯尔特人居东部第二，在获胜后，他们领先第三的骑士6场，优势不小。不过如此凯尔特人最近受到伤病的困扰，要保住第二也不敢掉以轻心。|　　开拓者则要保持西部第三的位置。但由于雷霆今天取得胜利，双方的差距只剩下1场，开拓者也看到了危机。|　　凯尔特人以10-5开局，利拉德助攻队友命中一球，此后自己投中三分，开拓者连得7分将比分超出。开拓者一度领先7分，但本节最后1分43秒未能得分，凯尔特人连得4分后只以23-26落后。|　　凯尔特人几度扳平，在第二节还有2分58秒时，莫里斯上篮得手，将比分追成42-42。开拓者没让对手反超，哈克莱斯扣篮还以颜色，阿米努也篮下得手，利拉德连续两次助攻。本节最后36.6秒，利拉德连得4分，开拓者以52-47略占优势。|　　开拓者在第三节取得两位数的优势，本节还有3分57秒时，约基奇两罚一中，他们以71-59领先。本节最后6分钟，凯尔特人只得8分，前三节以67-77落后了两位数。|　　凯尔特人顽强反击。第四节将过半时，莫里斯中路命中三分，他们以85-84反超，这是自第一节以来首次领先。迈克科伦姆挺身而出，他先是连投带罚拿下3分，然后强行突破抛投得手，一人连得5分，在比赛还有4分39秒时，开拓者以91-87领先。|　　霍福德在中路命中三分，凯尔特人将差距缩小到1分，此后他成功盖帽，然后强攻造成犯规，两罚一中，双方战成平手。两队上一次交手时，霍福德投中制胜的压哨球，今天他又在关键时刻挺身而出。|　　开拓者也有关键先生，利拉德命中一记至关重要的三分，开拓者再度领先。|　　凯尔特人的关键先生不只一人，罗齐尔也命中一记三分，一人连得5分，而在比赛还有54.8秒时，莫里斯命中压哨三分，凯尔特人以101-96领先。[谁能从东部脱颖而出？竞猜NBA赢每日千元大礼]|　　开拓者将差距缩小到3分后，成功地防住了凯尔特人，不过他们没抢到篮板，无奈之下只好犯规。在比赛还有3.2秒时，罗齐尔两罚两中，凯尔特人以105-100领先，锁定胜局。（吴哥）\n"
     ]
    }
   ],
   "source": [
    "sent = '北京时间3月24日，凯尔特人后来居上，客场以105-100击败了开拓者。|　　凯尔特人（49-23）二连胜。马库斯-莫里斯三分球6投5中，拿下了30分，特里-罗齐尔16分，杰森-塔图姆13分、6个篮板和4次助攻，艾尔-霍福德11分。[绿军诠释何为铁血之师！篮球大师打造你的梦幻阵容]|　　开拓者（44-28）二连败，仍保持西部第三的位置。达米安-利拉德26分8次助攻，CJ-迈克科伦姆26分7个篮板，艾尔-阿米努16分、10个篮板和5个抢断，约瑟夫-纽基奇8分。|　　凯尔特人居东部第二，在获胜后，他们领先第三的骑士6场，优势不小。不过如此凯尔特人最近受到伤病的困扰，要保住第二也不敢掉以轻心。|　　开拓者则要保持西部第三的位置。但由于雷霆今天取得胜利，双方的差距只剩下1场，开拓者也看到了危机。|　　凯尔特人以10-5开局，利拉德助攻队友命中一球，此后自己投中三分，开拓者连得7分将比分超出。开拓者一度领先7分，但本节最后1分43秒未能得分，凯尔特人连得4分后只以23-26落后。|　　凯尔特人几度扳平，在第二节还有2分58秒时，莫里斯上篮得手，将比分追成42-42。开拓者没让对手反超，哈克莱斯扣篮还以颜色，阿米努也篮下得手，利拉德连续两次助攻。本节最后36.6秒，利拉德连得4分，开拓者以52-47略占优势。|　　开拓者在第三节取得两位数的优势，本节还有3分57秒时，约基奇两罚一中，他们以71-59领先。本节最后6分钟，凯尔特人只得8分，前三节以67-77落后了两位数。|　　凯尔特人顽强反击。第四节将过半时，莫里斯中路命中三分，他们以85-84反超，这是自第一节以来首次领先。迈克科伦姆挺身而出，他先是连投带罚拿下3分，然后强行突破抛投得手，一人连得5分，在比赛还有4分39秒时，开拓者以91-87领先。|　　霍福德在中路命中三分，凯尔特人将差距缩小到1分，此后他成功盖帽，然后强攻造成犯规，两罚一中，双方战成平手。两队上一次交手时，霍福德投中制胜的压哨球，今天他又在关键时刻挺身而出。|　　开拓者也有关键先生，利拉德命中一记至关重要的三分，开拓者再度领先。|　　凯尔特人的关键先生不只一人，罗齐尔也命中一记三分，一人连得5分，而在比赛还有54.8秒时，莫里斯命中压哨三分，凯尔特人以101-96领先。[谁能从东部脱颖而出？竞猜NBA赢每日千元大礼]|　　开拓者将差距缩小到3分后，成功地防住了凯尔特人，不过他们没抢到篮板，无奈之下只好犯规。在比赛还有3.2秒时，罗齐尔两罚两中，凯尔特人以105-100领先，锁定胜局。（吴哥）'\n",
    "print(sent)"
   ],
   "metadata": {
    "collapsed": false,
    "pycharm": {
     "name": "#%%\n"
    }
   }
  },
  {
   "cell_type": "code",
   "execution_count": 12,
   "outputs": [
    {
     "name": "stdout",
     "output_type": "stream",
     "text": [
      "开拓者 0.8873\n",
      "领先 0.4010\n",
      "命中 0.3732\n",
      "连得 0.3579\n",
      "篮板 0.3140\n",
      "助攻 0.3054\n",
      "得手 0.1867\n",
      "反超 0.1515\n",
      "投中 0.1489\n",
      "差距 0.1475\n"
     ]
    }
   ],
   "source": [
    "# 使用 TFIDF 方法\n",
    "t = jieba.analyse.TFIDF()\n",
    "kws = t.extract_tags(sent, topK=10, withWeight=True, allowPOS=('ns', 'n', 'vn', 'v'))\n",
    "for word, weight in kws:\n",
    "    print('%s %.4f'%(word, weight))"
   ],
   "metadata": {
    "collapsed": false,
    "pycharm": {
     "name": "#%%\n"
    }
   }
  },
  {
   "cell_type": "code",
   "execution_count": null,
   "outputs": [],
   "source": [],
   "metadata": {
    "collapsed": false,
    "pycharm": {
     "name": "#%%\n"
    }
   }
  }
 ],
 "metadata": {
  "kernelspec": {
   "display_name": "Python 3",
   "language": "python",
   "name": "python3"
  },
  "language_info": {
   "codemirror_mode": {
    "name": "ipython",
    "version": 2
   },
   "file_extension": ".py",
   "mimetype": "text/x-python",
   "name": "python",
   "nbconvert_exporter": "python",
   "pygments_lexer": "ipython2",
   "version": "2.7.6"
  }
 },
 "nbformat": 4,
 "nbformat_minor": 0
}