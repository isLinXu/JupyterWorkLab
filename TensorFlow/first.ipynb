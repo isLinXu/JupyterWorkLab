{
 "cells": [
  {
   "cell_type": "code",
   "execution_count": 2,
   "metadata": {
    "collapsed": true
   },
   "outputs": [
    {
     "data": {
      "text/plain": "[PhysicalDevice(name='/physical_device:GPU:0', device_type='GPU')]"
     },
     "execution_count": 2,
     "metadata": {},
     "output_type": "execute_result"
    }
   ],
   "source": [
    "import tensorflow as tf\n",
    "tf.config.list_physical_devices('GPU')"
   ]
  },
  {
   "cell_type": "code",
   "execution_count": 4,
   "outputs": [],
   "source": [
    "fashion_mnist = tf.keras.datasets.fashion_mnist\n",
    "(train_images, train_labels), (valid_images, valid_labels) = fashion_mnist.load_data()"
   ],
   "metadata": {
    "collapsed": false,
    "pycharm": {
     "name": "#%%\n"
    }
   }
  },
  {
   "cell_type": "code",
   "execution_count": 5,
   "outputs": [
    {
     "data": {
      "text/plain": "<Figure size 432x288 with 2 Axes>",
      "image/png": "[encoded data removed]"
     },
     "metadata": {
      "needs_background": "light"
     },
     "output_type": "display_data"
    }
   ],
   "source": [
    "import matplotlib.pyplot as plt\n",
    "\n",
    "# The question number to study with. Feel free to change up to 59999.\n",
    "data_idx = 42\n",
    "\n",
    "plt.figure()\n",
    "plt.imshow(train_images[data_idx], cmap='gray')\n",
    "plt.colorbar()\n",
    "plt.grid(False)\n",
    "plt.show()"
   ],
   "metadata": {
    "collapsed": false,
    "pycharm": {
     "name": "#%%\n"
    }
   }
  },
  {
   "cell_type": "code",
   "execution_count": 6,
   "outputs": [
    {
     "data": {
      "text/plain": "9"
     },
     "execution_count": 6,
     "metadata": {},
     "output_type": "execute_result"
    }
   ],
   "source": [
    "train_labels[data_idx]"
   ],
   "metadata": {
    "collapsed": false,
    "pycharm": {
     "name": "#%%\n"
    }
   }
  },
  {
   "cell_type": "code",
   "execution_count": 7,
   "outputs": [
    {
     "data": {
      "text/plain": "<Figure size 432x288 with 2 Axes>",
      "image/png": "[encoded data removed]"
     },
     "metadata": {
      "needs_background": "light"
     },
     "output_type": "display_data"
    }
   ],
   "source": [
    "import matplotlib.pyplot as plt\n",
    "\n",
    "# The question number to quiz with. Feel free to change up to 9999.\n",
    "data_idx = 6174\n",
    "\n",
    "plt.figure()\n",
    "plt.imshow(valid_images[data_idx], cmap='gray')\n",
    "plt.colorbar()\n",
    "plt.grid(False)\n",
    "plt.show()"
   ],
   "metadata": {
    "collapsed": false,
    "pycharm": {
     "name": "#%%\n"
    }
   }
  },
  {
   "cell_type": "code",
   "execution_count": 8,
   "outputs": [
    {
     "data": {
      "text/plain": "7"
     },
     "execution_count": 8,
     "metadata": {},
     "output_type": "execute_result"
    }
   ],
   "source": [
    "valid_labels[data_idx]"
   ],
   "metadata": {
    "collapsed": false,
    "pycharm": {
     "name": "#%%\n"
    }
   }
  },
  {
   "cell_type": "code",
   "execution_count": 9,
   "outputs": [
    {
     "data": {
      "text/plain": "array([[  0,   0,   0,   0,   0,   0,   0,   0,   0,   0,   0,   0,   0,\n          0,   0,   0,   0,   0,   0,   0,   0,   0,   0,   0,   0,   0,\n          0,   0],\n       [  0,   0,   0,   0,   0,   0,   0,   0,   0,   0,   0,   0,   0,\n          0,   0,   0,   0,   0,   0,   0,   0,   0,   0,   0,   0,   0,\n          0,   0],\n       [  0,   0,   0,   0,   0,   0,   0,   0,   0,   0,   0,   0,   0,\n          0,   0,   0,   0,   0,   0,   0,   0,   0,   0,   0,   0,   0,\n          0,   0],\n       [  0,   0,   0,   0,   0,   0,   0,   0,   0,   0,   0,   0,   0,\n          0,   0,   0,   0,   0,   0,   0,   0,   0,   0,   0,   0,   0,\n          0,   0],\n       [  0,   0,   0,   0,   0,   0,   0,   0,   0,   0,   0,   0,   0,\n          0,   0,   0,   0,   0,   0,   0,   0,   0,   0,   0,   0,   0,\n          0,   0],\n       [  0,   0,   0,   0,   0,   0,   0,   0,   0,   0,   0,   0,   0,\n          0,   0,   0,   0,   0,   0,   0,   0,   0,   0,   0,   0,   0,\n          0,   0],\n       [  0,   0,   0,   0,   0,   0,   0,   0,   0,   0,   0,   0,   0,\n          0,   0,   0,   0,   0,   0,   0,   0,   0,   0,   0,   0,   0,\n          0,   0],\n       [  0,   0,   0,   0,   0,   0,   0,   0,   0,   0,   0,   0,   0,\n          0,   0,   0, 155, 133,   0,   0,   1,   0,   0,   3,   0,   0,\n          0,   0],\n       [  0,   0,   0,   0,   0,   0,   0,   0,   0,   5,   0,   0,   0,\n          1,   0,   0, 175, 235,  35,   0,   3,   0,   5,   2,   3,   1,\n          0,   0],\n       [  0,   0,   0,   0,   0,   0,   0,   0,   0,   0,   1,   0,   0,\n          0,   0,  93, 219, 220,  32,   0,   0,   0,   0,   0,   0,   0,\n          1,   0],\n       [  0,   0,   0,   0,   0,   0,   0,   0,   0,   0,   2,   2,   0,\n          0, 147, 218, 159, 218,  28,   0,   2,   0,  82, 202, 115,   0,\n          0,   1],\n       [  0,   0,   0,   0,   0,   0,   0,   0,   2,   0,   0,   0,   0,\n        144, 248, 155, 105, 174,  87,   0,   0,   0, 233, 253, 213,   8,\n          0,   1],\n       [  1,   0,   0,   0,   1,   2,   2,   0,   0,   0,   0,  99, 233,\n        119,  81,  89, 140, 183, 208, 139,  74, 218, 223, 184, 189, 145,\n          0,   0],\n       [  0,   1,   2,   3,   5,   0,   0,   0,   0, 173, 153, 195,  97,\n        157, 220, 228, 213, 189, 182, 189, 220, 213, 174, 185, 186, 198,\n          0,   0],\n       [  1,   0,   0,   0,   0,  10, 129, 202, 198, 129, 149,  84, 124,\n        236, 221, 209, 226, 221, 166, 186, 179, 178, 205, 177, 206, 196,\n          0,   0],\n       [  0,   0,   6,  49,  80, 148, 203, 181, 203, 164, 145, 178, 159,\n        138, 174, 186, 162, 169, 177, 200, 214, 206, 178, 179, 205, 227,\n          6,   0],\n       [  3, 104, 128, 126, 124, 105,  85,  75,  99, 181, 140, 141, 185,\n        179, 181, 183, 185, 204, 227, 255, 224, 226, 234, 227, 159, 198,\n        198,   0],\n       [ 62, 150, 115, 111,  91, 117, 131, 102, 129, 120, 153, 176, 216,\n        232, 238, 238, 211, 242, 173,  26,   0,  54, 104,  20,   0,   0,\n         48,  16],\n       [116, 179, 173, 173, 202, 188, 200, 228, 179, 150, 100,  89, 164,\n         39,   0,  82, 129,  17,   0,   0,   0,   0,   0,   0,  25,  11,\n          0,  12],\n       [ 10, 122, 108, 148, 115, 145, 148,  79,  38,   0,   0,   0,   0,\n          0,   0,   0,   0,   0,   9,  14,   7,  18,   9,   5,   0,  12,\n          0,   0],\n       [  0,   5,  57,  67,   0,   0,   0,   1,   0,   0,   8,   8,  71,\n         55,  11,  32,  30,  30,  17,   4,   3,   9,  15,  17,  29,  37,\n         92, 106],\n       [  0,   0,   0,  58,  50, 142, 169,  80, 144, 156, 148, 159, 152,\n        156, 136, 151, 142,  70, 139, 161,  98, 131, 145,  60, 141, 121,\n         77,   0],\n       [  0,   0,   0,   0,   0,   0,   0,   0,   0,   0,   0,   0,   0,\n          0,   0,   0,   0,   0,   0,   0,   0,   0,   0,   0,   0,   0,\n          0,   0],\n       [  0,   0,   0,   0,   0,   0,   0,   0,   0,   0,   0,   0,   0,\n          0,   0,   0,   0,   0,   0,   0,   0,   0,   0,   0,   0,   0,\n          0,   0],\n       [  0,   0,   0,   0,   0,   0,   0,   0,   0,   0,   0,   0,   0,\n          0,   0,   0,   0,   0,   0,   0,   0,   0,   0,   0,   0,   0,\n          0,   0],\n       [  0,   0,   0,   0,   0,   0,   0,   0,   0,   0,   0,   0,   0,\n          0,   0,   0,   0,   0,   0,   0,   0,   0,   0,   0,   0,   0,\n          0,   0],\n       [  0,   0,   0,   0,   0,   0,   0,   0,   0,   0,   0,   0,   0,\n          0,   0,   0,   0,   0,   0,   0,   0,   0,   0,   0,   0,   0,\n          0,   0],\n       [  0,   0,   0,   0,   0,   0,   0,   0,   0,   0,   0,   0,   0,\n          0,   0,   0,   0,   0,   0,   0,   0,   0,   0,   0,   0,   0,\n          0,   0]], dtype=uint8)"
     },
     "execution_count": 9,
     "metadata": {},
     "output_type": "execute_result"
    }
   ],
   "source": [
    "# 28 lists with 28 values each\n",
    "valid_images[data_idx]"
   ],
   "metadata": {
    "collapsed": false,
    "pycharm": {
     "name": "#%%\n"
    }
   }
  },
  {
   "cell_type": "code",
   "execution_count": 10,
   "outputs": [
    {
     "data": {
      "text/plain": "10"
     },
     "execution_count": 10,
     "metadata": {},
     "output_type": "execute_result"
    }
   ],
   "source": [
    "number_of_classes = train_labels.max() + 1\n",
    "number_of_classes"
   ],
   "metadata": {
    "collapsed": false,
    "pycharm": {
     "name": "#%%\n"
    }
   }
  },
  {
   "cell_type": "code",
   "execution_count": 11,
   "outputs": [
    {
     "name": "stderr",
     "output_type": "stream",
     "text": [
      "2022-03-23 15:14:13.737628: I tensorflow/core/platform/cpu_feature_guard.cc:151] This TensorFlow binary is optimized with oneAPI Deep Neural Network Library (oneDNN) to use the following CPU instructions in performance-critical operations:  AVX2 AVX512F FMA\n",
      "To enable them in other operations, rebuild TensorFlow with the appropriate compiler flags.\n",
      "2022-03-23 15:14:13.738016: I tensorflow/stream_executor/cuda/cuda_gpu_executor.cc:936] successful NUMA node read from SysFS had negative value (-1), but there must be at least one NUMA node, so returning NUMA node zero\n",
      "2022-03-23 15:14:13.738385: I tensorflow/stream_executor/cuda/cuda_gpu_executor.cc:936] successful NUMA node read from SysFS had negative value (-1), but there must be at least one NUMA node, so returning NUMA node zero\n",
      "2022-03-23 15:14:13.738639: I tensorflow/stream_executor/cuda/cuda_gpu_executor.cc:936] successful NUMA node read from SysFS had negative value (-1), but there must be at least one NUMA node, so returning NUMA node zero\n",
      "2022-03-23 15:14:14.145674: I tensorflow/stream_executor/cuda/cuda_gpu_executor.cc:936] successful NUMA node read from SysFS had negative value (-1), but there must be at least one NUMA node, so returning NUMA node zero\n",
      "2022-03-23 15:14:14.146057: I tensorflow/stream_executor/cuda/cuda_gpu_executor.cc:936] successful NUMA node read from SysFS had negative value (-1), but there must be at least one NUMA node, so returning NUMA node zero\n",
      "2022-03-23 15:14:14.146410: I tensorflow/stream_executor/cuda/cuda_gpu_executor.cc:936] successful NUMA node read from SysFS had negative value (-1), but there must be at least one NUMA node, so returning NUMA node zero\n",
      "2022-03-23 15:14:14.146742: I tensorflow/core/common_runtime/gpu/gpu_device.cc:1525] Created device /job:localhost/replica:0/task:0/device:GPU:0 with 2792 MB memory:  -> device: 0, name: NVIDIA GeForce RTX 3060 Laptop GPU, pci bus id: 0000:01:00.0, compute capability: 8.6\n"
     ]
    }
   ],
   "source": [
    "model = tf.keras.Sequential([\n",
    "    tf.keras.layers.Flatten(input_shape=(28, 28)),\n",
    "    tf.keras.layers.Dense(number_of_classes)\n",
    "])"
   ],
   "metadata": {
    "collapsed": false,
    "pycharm": {
     "name": "#%%\n"
    }
   }
  },
  {
   "cell_type": "code",
   "execution_count": 12,
   "outputs": [
    {
     "name": "stdout",
     "output_type": "stream",
     "text": [
      "Model: \"sequential\"\n",
      "_________________________________________________________________\n",
      " Layer (type)                Output Shape              Param #   \n",
      "=================================================================\n",
      " flatten (Flatten)           (None, 784)               0         \n",
      "                                                                 \n",
      " dense (Dense)               (None, 10)                7850      \n",
      "                                                                 \n",
      "=================================================================\n",
      "Total params: 7,850\n",
      "Trainable params: 7,850\n",
      "Non-trainable params: 0\n",
      "_________________________________________________________________\n"
     ]
    }
   ],
   "source": [
    "model.summary()"
   ],
   "metadata": {
    "collapsed": false,
    "pycharm": {
     "name": "#%%\n"
    }
   }
  },
  {
   "cell_type": "code",
   "execution_count": 13,
   "outputs": [
    {
     "data": {
      "text/plain": "7840"
     },
     "execution_count": 13,
     "metadata": {},
     "output_type": "execute_result"
    }
   ],
   "source": [
    "image_height = 28\n",
    "image_width = 28\n",
    "\n",
    "number_of_weights = image_height * image_width * number_of_classes\n",
    "number_of_weights"
   ],
   "metadata": {
    "collapsed": false,
    "pycharm": {
     "name": "#%%\n"
    }
   }
  },
  {
   "cell_type": "code",
   "execution_count": 14,
   "outputs": [
    {
     "data": {
      "image/png": "[encoded data removed]",
      "text/plain": "<IPython.core.display.Image object>"
     },
     "execution_count": 14,
     "metadata": {},
     "output_type": "execute_result"
    }
   ],
   "source": [
    "tf.keras.utils.plot_model(model, show_shapes=True)"
   ],
   "metadata": {
    "collapsed": false,
    "pycharm": {
     "name": "#%%\n"
    }
   }
  },
  {
   "cell_type": "code",
   "execution_count": 17,
   "outputs": [],
   "source": [
    "model.compile(optimizer='adam',\n",
    "              loss=tf.keras.losses.SparseCategoricalCrossentropy(from_logits=True),\n",
    "              metrics=['accuracy'])"
   ],
   "metadata": {
    "collapsed": false,
    "pycharm": {
     "name": "#%%\n"
    }
   }
  },
  {
   "cell_type": "code",
   "execution_count": 18,
   "outputs": [
    {
     "name": "stdout",
     "output_type": "stream",
     "text": [
      "Epoch 1/5\n"
     ]
    },
    {
     "name": "stderr",
     "output_type": "stream",
     "text": [
      "2022-03-23 15:15:06.574880: W tensorflow/core/framework/cpu_allocator_impl.cc:82] Allocation of 47040000 exceeds 10% of free system memory.\n"
     ]
    },
    {
     "name": "stdout",
     "output_type": "stream",
     "text": [
      "  61/1875 [..............................] - ETA: 1s - loss: 57.4703 - accuracy: 0.4559        "
     ]
    },
    {
     "name": "stderr",
     "output_type": "stream",
     "text": [
      "2022-03-23 15:15:07.619579: I tensorflow/stream_executor/cuda/cuda_blas.cc:1786] TensorFloat-32 will be used for the matrix multiplication. This will only be logged once.\n"
     ]
    },
    {
     "name": "stdout",
     "output_type": "stream",
     "text": [
      "1875/1875 [==============================] - 3s 1ms/step - loss: 16.5811 - accuracy: 0.7465 - val_loss: 18.7258 - val_accuracy: 0.7352\n",
      "Epoch 2/5\n",
      "1875/1875 [==============================] - 2s 931us/step - loss: 12.1105 - accuracy: 0.7875 - val_loss: 10.8543 - val_accuracy: 0.7858\n",
      "Epoch 3/5\n",
      "1875/1875 [==============================] - 2s 889us/step - loss: 11.4033 - accuracy: 0.7922 - val_loss: 22.3968 - val_accuracy: 0.6855\n",
      "Epoch 4/5\n",
      "1875/1875 [==============================] - 2s 920us/step - loss: 10.8565 - accuracy: 0.8007 - val_loss: 11.8651 - val_accuracy: 0.8032\n",
      "Epoch 5/5\n",
      "1875/1875 [==============================] - 2s 938us/step - loss: 10.4972 - accuracy: 0.8032 - val_loss: 10.7182 - val_accuracy: 0.8063\n"
     ]
    }
   ],
   "source": [
    "history = model.fit(\n",
    "    train_images,\n",
    "    train_labels,\n",
    "    epochs=5,\n",
    "    verbose=True,\n",
    "    validation_data=(valid_images, valid_labels)\n",
    ")"
   ],
   "metadata": {
    "collapsed": false,
    "pycharm": {
     "name": "#%%\n"
    }
   }
  },
  {
   "cell_type": "code",
   "execution_count": 19,
   "outputs": [
    {
     "data": {
      "text/plain": "array([[ -317.55206 ,  -567.14435 ,  -130.82487 ,  -461.61523 ,\n         -188.91324 ,   514.0943  ,   -71.00929 ,   305.81058 ,\n          132.4701  ,   733.99915 ],\n       [  566.62463 ,   -89.864   ,   325.82617 ,   161.89705 ,\n          104.343414, -1042.1361  ,   371.6535  , -1516.3733  ,\n           31.577808,  -720.6733  ],\n       [  139.47667 ,   122.90648 ,    93.39969 ,   121.53538 ,\n           97.481606,  -409.02902 ,   106.298035,  -418.6275  ,\n          -21.691856,  -177.26389 ],\n       [  244.6581  ,    90.79705 ,   175.47755 ,   206.50539 ,\n          115.5581  ,  -650.46246 ,   221.99214 ,  -824.8287  ,\n          -28.615158,  -571.8413  ],\n       [  267.7574  ,   291.59314 ,   171.4583  ,   291.03217 ,\n          277.66733 ,  -799.1612  ,   214.02678 ,  -614.02936 ,\n           98.3953  ,  -527.1248  ],\n       [  298.74786 ,    87.801674,   400.1225  ,   158.6433  ,\n          325.07346 ,  -692.70374 ,   274.51324 , -1344.9517  ,\n          126.93917 ,  -779.98114 ],\n       [ -163.56071 ,  -179.71317 ,   -58.507236,   -22.651154,\n          -94.82044 ,   357.39215 ,    22.509457,   366.98917 ,\n          212.33444 ,   277.8099  ],\n       [  135.37656 ,  -153.94226 ,   348.18582 ,  -115.70887 ,\n          383.01138 ,  -901.55414 ,   241.03056 , -1405.1829  ,\n           66.593216,  -535.64923 ],\n       [  -42.12772 ,  -421.6407  ,   -75.023384,  -223.8624  ,\n         -161.89876 ,   405.97305 ,   -55.467655,   -45.05395 ,\n          -73.58765 ,   259.5819  ],\n       [ -110.504166,  -370.08405 ,   -48.51762 ,  -222.41383 ,\n          -48.757034,   712.945   ,    20.57867 ,  -266.44815 ,\n           40.972687,   345.63162 ]], dtype=float32)"
     },
     "execution_count": 19,
     "metadata": {},
     "output_type": "execute_result"
    }
   ],
   "source": [
    "model.predict(train_images[0:10])"
   ],
   "metadata": {
    "collapsed": false,
    "pycharm": {
     "name": "#%%\n"
    }
   }
  },
  {
   "cell_type": "code",
   "execution_count": 20,
   "outputs": [
    {
     "data": {
      "text/plain": "<Figure size 432x288 with 2 Axes>",
      "image/png": "[encoded data removed]"
     },
     "metadata": {
      "needs_background": "light"
     },
     "output_type": "display_data"
    },
    {
     "data": {
      "text/plain": "<Figure size 432x288 with 1 Axes>",
      "image/png": "[encoded data removed]"
     },
     "metadata": {
      "needs_background": "light"
     },
     "output_type": "display_data"
    },
    {
     "name": "stdout",
     "output_type": "stream",
     "text": [
      "correct answer: 6\n"
     ]
    }
   ],
   "source": [
    "data_idx = 8675 # The question number to study with. Feel free to change up to 59999.\n",
    "\n",
    "plt.figure()\n",
    "plt.imshow(train_images[data_idx], cmap='gray')\n",
    "plt.colorbar()\n",
    "plt.grid(False)\n",
    "plt.show()\n",
    "\n",
    "x_values = range(number_of_classes)\n",
    "plt.figure()\n",
    "plt.bar(x_values, model.predict(train_images[data_idx:data_idx+1]).flatten())\n",
    "plt.xticks(range(10))\n",
    "plt.show()\n",
    "\n",
    "print(\"correct answer:\", train_labels[data_idx])"
   ],
   "metadata": {
    "collapsed": false,
    "pycharm": {
     "name": "#%%\n"
    }
   }
  },
  {
   "cell_type": "code",
   "execution_count": null,
   "outputs": [],
   "source": [],
   "metadata": {
    "collapsed": false,
    "pycharm": {
     "name": "#%%\n"
    }
   }
  },
  {
   "cell_type": "code",
   "execution_count": null,
   "outputs": [],
   "source": [],
   "metadata": {
    "collapsed": false,
    "pycharm": {
     "name": "#%%\n"
    }
   }
  }
 ],
 "metadata": {
  "kernelspec": {
   "display_name": "Python 3",
   "language": "python",
   "name": "python3"
  },
  "language_info": {
   "codemirror_mode": {
    "name": "ipython",
    "version": 2
   },
   "file_extension": ".py",
   "mimetype": "text/x-python",
   "name": "python",
   "nbconvert_exporter": "python",
   "pygments_lexer": "ipython2",
   "version": "2.7.6"
  }
 },
 "nbformat": 4,
 "nbformat_minor": 0
}