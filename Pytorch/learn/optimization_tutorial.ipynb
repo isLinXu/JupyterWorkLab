{
 "cells": [
  {
   "cell_type": "code",
   "execution_count": 6,
   "metadata": {
    "collapsed": true
   },
   "outputs": [],
   "source": [
    "%matplotlib inline"
   ]
  },
  {
   "cell_type": "code",
   "execution_count": 7,
   "outputs": [],
   "source": [
    "import torch\n",
    "from torch import nn\n",
    "from torch.utils.data import DataLoader\n",
    "from torchvision import datasets\n",
    "from torchvision.transforms import ToTensor, Lambda\n"
   ],
   "metadata": {
    "collapsed": false,
    "pycharm": {
     "name": "#%%\n"
    }
   }
  },
  {
   "cell_type": "code",
   "execution_count": 9,
   "outputs": [],
   "source": [
    "training_data = datasets.FashionMNIST(\n",
    "    root=\"data\",\n",
    "    train=True,\n",
    "    download=True,\n",
    "    transform=ToTensor()\n",
    ")\n",
    "\n",
    "test_data = datasets.FashionMNIST(\n",
    "    root=\"data\",\n",
    "    train=False,\n",
    "    download=True,\n",
    "    transform=ToTensor()\n",
    ")\n",
    "\n",
    "train_dataloader = DataLoader(training_data, batch_size=64)\n",
    "test_dataloader = DataLoader(test_data, batch_size=64)\n",
    "\n"
   ],
   "metadata": {
    "collapsed": false,
    "pycharm": {
     "name": "#%%\n"
    }
   }
  },
  {
   "cell_type": "code",
   "execution_count": 10,
   "outputs": [],
   "source": [
    "class NeuralNetwork(nn.Module):\n",
    "    def __init__(self):\n",
    "        super(NeuralNetwork, self).__init__()\n",
    "        self.flatten = nn.Flatten()\n",
    "        self.linear_relu_stack = nn.Sequential(\n",
    "            nn.Linear(28*28, 512),\n",
    "            nn.ReLU(),\n",
    "            nn.Linear(512, 512),\n",
    "            nn.ReLU(),\n",
    "            nn.Linear(512, 10),\n",
    "        )\n",
    "\n",
    "    def forward(self, x):\n",
    "        x = self.flatten(x)\n",
    "        logits = self.linear_relu_stack(x)\n",
    "        return logits\n",
    "\n",
    "model = NeuralNetwork()"
   ],
   "metadata": {
    "collapsed": false,
    "pycharm": {
     "name": "#%%\n"
    }
   }
  },
  {
   "cell_type": "code",
   "execution_count": 11,
   "outputs": [],
   "source": [
    "learning_rate = 1e-3\n",
    "batch_size = 64\n",
    "epochs = 5"
   ],
   "metadata": {
    "collapsed": false,
    "pycharm": {
     "name": "#%%\n"
    }
   }
  },
  {
   "cell_type": "code",
   "execution_count": 12,
   "outputs": [],
   "source": [
    "# Initialize the loss function\n",
    "loss_fn = nn.CrossEntropyLoss()"
   ],
   "metadata": {
    "collapsed": false,
    "pycharm": {
     "name": "#%%\n"
    }
   }
  },
  {
   "cell_type": "code",
   "execution_count": 13,
   "outputs": [],
   "source": [
    "optimizer = torch.optim.SGD(model.parameters(), lr=learning_rate)"
   ],
   "metadata": {
    "collapsed": false,
    "pycharm": {
     "name": "#%%\n"
    }
   }
  },
  {
   "cell_type": "code",
   "execution_count": 14,
   "outputs": [],
   "source": [
    "def train_loop(dataloader, model, loss_fn, optimizer):\n",
    "    size = len(dataloader.dataset)\n",
    "    for batch, (X, y) in enumerate(dataloader):\n",
    "        # Compute prediction and loss\n",
    "        pred = model(X)\n",
    "        loss = loss_fn(pred, y)\n",
    "\n",
    "        # Backpropagation\n",
    "        optimizer.zero_grad()\n",
    "        loss.backward()\n",
    "        optimizer.step()\n",
    "\n",
    "        if batch % 100 == 0:\n",
    "            loss, current = loss.item(), batch * len(X)\n",
    "            print(f\"loss: {loss:>7f}  [{current:>5d}/{size:>5d}]\")\n",
    "\n",
    "\n",
    "def test_loop(dataloader, model, loss_fn):\n",
    "    size = len(dataloader.dataset)\n",
    "    num_batches = len(dataloader)\n",
    "    test_loss, correct = 0, 0\n",
    "\n",
    "    with torch.no_grad():\n",
    "        for X, y in dataloader:\n",
    "            pred = model(X)\n",
    "            test_loss += loss_fn(pred, y).item()\n",
    "            correct += (pred.argmax(1) == y).type(torch.float).sum().item()\n",
    "\n",
    "    test_loss /= num_batches\n",
    "    correct /= size\n",
    "    print(f\"Test Error: \\n Accuracy: {(100*correct):>0.1f}%, Avg loss: {test_loss:>8f} \\n\")"
   ],
   "metadata": {
    "collapsed": false,
    "pycharm": {
     "name": "#%%\n"
    }
   }
  },
  {
   "cell_type": "code",
   "execution_count": 15,
   "outputs": [
    {
     "name": "stdout",
     "output_type": "stream",
     "text": [
      "Epoch 1\n",
      "-------------------------------\n",
      "loss: 2.284794  [    0/60000]\n",
      "loss: 2.277561  [ 6400/60000]\n",
      "loss: 2.262240  [12800/60000]\n",
      "loss: 2.265888  [19200/60000]\n",
      "loss: 2.247403  [25600/60000]\n",
      "loss: 2.212805  [32000/60000]\n",
      "loss: 2.230947  [38400/60000]\n",
      "loss: 2.193294  [44800/60000]\n",
      "loss: 2.196336  [51200/60000]\n",
      "loss: 2.159664  [57600/60000]\n",
      "Test Error: \n",
      " Accuracy: 47.2%, Avg loss: 2.153332 \n",
      "\n",
      "Epoch 2\n",
      "-------------------------------\n",
      "loss: 2.162151  [    0/60000]\n",
      "loss: 2.154414  [ 6400/60000]\n",
      "loss: 2.097820  [12800/60000]\n",
      "loss: 2.116231  [19200/60000]\n",
      "loss: 2.077198  [25600/60000]\n",
      "loss: 2.006773  [32000/60000]\n",
      "loss: 2.042275  [38400/60000]\n",
      "loss: 1.961972  [44800/60000]\n",
      "loss: 1.978762  [51200/60000]\n",
      "loss: 1.895878  [57600/60000]\n",
      "Test Error: \n",
      " Accuracy: 54.3%, Avg loss: 1.893612 \n",
      "\n",
      "Epoch 3\n",
      "-------------------------------\n",
      "loss: 1.927841  [    0/60000]\n",
      "loss: 1.898677  [ 6400/60000]\n",
      "loss: 1.782761  [12800/60000]\n",
      "loss: 1.821430  [19200/60000]\n",
      "loss: 1.740960  [25600/60000]\n",
      "loss: 1.662039  [32000/60000]\n",
      "loss: 1.696272  [38400/60000]\n",
      "loss: 1.587825  [44800/60000]\n",
      "loss: 1.623687  [51200/60000]\n",
      "loss: 1.514032  [57600/60000]\n",
      "Test Error: \n",
      " Accuracy: 59.8%, Avg loss: 1.527942 \n",
      "\n",
      "Epoch 4\n",
      "-------------------------------\n",
      "loss: 1.591946  [    0/60000]\n",
      "loss: 1.555904  [ 6400/60000]\n",
      "loss: 1.408889  [12800/60000]\n",
      "loss: 1.481938  [19200/60000]\n",
      "loss: 1.392380  [25600/60000]\n",
      "loss: 1.351036  [32000/60000]\n",
      "loss: 1.382082  [38400/60000]\n",
      "loss: 1.292554  [44800/60000]\n",
      "loss: 1.333092  [51200/60000]\n",
      "loss: 1.238461  [57600/60000]\n",
      "Test Error: \n",
      " Accuracy: 63.6%, Avg loss: 1.258746 \n",
      "\n",
      "Epoch 5\n",
      "-------------------------------\n",
      "loss: 1.329759  [    0/60000]\n",
      "loss: 1.310692  [ 6400/60000]\n",
      "loss: 1.150881  [12800/60000]\n",
      "loss: 1.256275  [19200/60000]\n",
      "loss: 1.154369  [25600/60000]\n",
      "loss: 1.150902  [32000/60000]\n",
      "loss: 1.185339  [38400/60000]\n",
      "loss: 1.109408  [44800/60000]\n",
      "loss: 1.149422  [51200/60000]\n",
      "loss: 1.074074  [57600/60000]\n",
      "Test Error: \n",
      " Accuracy: 65.2%, Avg loss: 1.089785 \n",
      "\n",
      "Epoch 6\n",
      "-------------------------------\n",
      "loss: 1.155026  [    0/60000]\n",
      "loss: 1.155191  [ 6400/60000]\n",
      "loss: 0.980706  [12800/60000]\n",
      "loss: 1.111807  [19200/60000]\n",
      "loss: 1.004673  [25600/60000]\n",
      "loss: 1.016276  [32000/60000]\n",
      "loss: 1.060945  [38400/60000]\n",
      "loss: 0.991704  [44800/60000]\n",
      "loss: 1.030081  [51200/60000]\n",
      "loss: 0.968411  [57600/60000]\n",
      "Test Error: \n",
      " Accuracy: 66.3%, Avg loss: 0.980279 \n",
      "\n",
      "Epoch 7\n",
      "-------------------------------\n",
      "loss: 1.034797  [    0/60000]\n",
      "loss: 1.054893  [ 6400/60000]\n",
      "loss: 0.864805  [12800/60000]\n",
      "loss: 1.015524  [19200/60000]\n",
      "loss: 0.909956  [25600/60000]\n",
      "loss: 0.922139  [32000/60000]\n",
      "loss: 0.978320  [38400/60000]\n",
      "loss: 0.915375  [44800/60000]\n",
      "loss: 0.948469  [51200/60000]\n",
      "loss: 0.897565  [57600/60000]\n",
      "Test Error: \n",
      " Accuracy: 67.6%, Avg loss: 0.906549 \n",
      "\n",
      "Epoch 8\n",
      "-------------------------------\n",
      "loss: 0.947217  [    0/60000]\n",
      "loss: 0.986717  [ 6400/60000]\n",
      "loss: 0.782709  [12800/60000]\n",
      "loss: 0.949026  [19200/60000]\n",
      "loss: 0.847645  [25600/60000]\n",
      "loss: 0.854638  [32000/60000]\n",
      "loss: 0.920624  [38400/60000]\n",
      "loss: 0.865161  [44800/60000]\n",
      "loss: 0.890902  [51200/60000]\n",
      "loss: 0.847448  [57600/60000]\n",
      "Test Error: \n",
      " Accuracy: 68.5%, Avg loss: 0.854559 \n",
      "\n",
      "Epoch 9\n",
      "-------------------------------\n",
      "loss: 0.880723  [    0/60000]\n",
      "loss: 0.936895  [ 6400/60000]\n",
      "loss: 0.722302  [12800/60000]\n",
      "loss: 0.901098  [19200/60000]\n",
      "loss: 0.804157  [25600/60000]\n",
      "loss: 0.805029  [32000/60000]\n",
      "loss: 0.877768  [38400/60000]\n",
      "loss: 0.830626  [44800/60000]\n",
      "loss: 0.848742  [51200/60000]\n",
      "loss: 0.809564  [57600/60000]\n",
      "Test Error: \n",
      " Accuracy: 69.8%, Avg loss: 0.815838 \n",
      "\n",
      "Epoch 10\n",
      "-------------------------------\n",
      "loss: 0.828163  [    0/60000]\n",
      "loss: 0.897696  [ 6400/60000]\n",
      "loss: 0.675794  [12800/60000]\n",
      "loss: 0.865066  [19200/60000]\n",
      "loss: 0.771586  [25600/60000]\n",
      "loss: 0.767302  [32000/60000]\n",
      "loss: 0.843778  [38400/60000]\n",
      "loss: 0.805511  [44800/60000]\n",
      "loss: 0.816433  [51200/60000]\n",
      "loss: 0.779197  [57600/60000]\n",
      "Test Error: \n",
      " Accuracy: 71.0%, Avg loss: 0.785276 \n",
      "\n",
      "Done!\n"
     ]
    }
   ],
   "source": [
    "loss_fn = nn.CrossEntropyLoss()\n",
    "optimizer = torch.optim.SGD(model.parameters(), lr=learning_rate)\n",
    "\n",
    "epochs = 10\n",
    "for t in range(epochs):\n",
    "    print(f\"Epoch {t+1}\\n-------------------------------\")\n",
    "    train_loop(train_dataloader, model, loss_fn, optimizer)\n",
    "    test_loop(test_dataloader, model, loss_fn)\n",
    "print(\"Done!\")"
   ],
   "metadata": {
    "collapsed": false,
    "pycharm": {
     "name": "#%%\n"
    }
   }
  }
 ],
 "metadata": {
  "kernelspec": {
   "display_name": "Python 3",
   "language": "python",
   "name": "python3"
  },
  "language_info": {
   "codemirror_mode": {
    "name": "ipython",
    "version": 2
   },
   "file_extension": ".py",
   "mimetype": "text/x-python",
   "name": "python",
   "nbconvert_exporter": "python",
   "pygments_lexer": "ipython2",
   "version": "2.7.6"
  }
 },
 "nbformat": 4,
 "nbformat_minor": 0
}