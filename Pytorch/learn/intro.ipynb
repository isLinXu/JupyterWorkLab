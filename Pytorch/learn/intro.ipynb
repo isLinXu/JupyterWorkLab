{
 "cells": [
  {
   "cell_type": "code",
   "execution_count": 1,
   "metadata": {
    "collapsed": true
   },
   "outputs": [],
   "source": [
    "%matplotlib inline"
   ]
  },
  {
   "cell_type": "markdown",
   "source": [
    "Tensor张量\n",
    "张量是一种特殊的数据结构，与数组和矩阵非常相似。\n",
    "在PyTorch中，我们使用张量对模型的输入和输出以及模型的参数进行编码。\n",
    "\n",
    "张量类似于NumPy 的ndarray，除了张量可以在 GPU 或其他件加速器上运行。\n",
    "事实上，张量和NumPy 数组通常可以共享相同的底层内存，从而无需复制数据(请参阅Bridge with NumPy)。张量也针对自动微分进行了优化（我们将在稍后的Autograd 部分中看到更多相关内容）。\n",
    "如果您熟悉ndarrays，那么您对 ​​Tensor API 会很熟悉。如果没有，请跟随！"
   ],
   "metadata": {
    "collapsed": false,
    "pycharm": {
     "name": "#%% md\n"
    }
   }
  },
  {
   "cell_type": "code",
   "execution_count": null,
   "outputs": [],
   "source": [
    "import torch"
   ],
   "metadata": {
    "collapsed": false,
    "pycharm": {
     "name": "#%%\n"
    }
   }
  }
 ],
 "metadata": {
  "kernelspec": {
   "display_name": "Python 3",
   "language": "python",
   "name": "python3"
  },
  "language_info": {
   "codemirror_mode": {
    "name": "ipython",
    "version": 2
   },
   "file_extension": ".py",
   "mimetype": "text/x-python",
   "name": "python",
   "nbconvert_exporter": "python",
   "pygments_lexer": "ipython2",
   "version": "2.7.6"
  }
 },
 "nbformat": 4,
 "nbformat_minor": 0
}