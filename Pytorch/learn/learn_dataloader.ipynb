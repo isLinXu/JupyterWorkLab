{
 "cells": [
  {
   "cell_type": "markdown",
   "source": [
    "# 语法和常见示例\n",
    "DataLoader(dataset, batch_size=1, shuffle=False, sampler=None, pin_memory=False, drop_last=False, timeout=0, worker_init_fn=None, *, prefetch_factor=2, persistent_workers=False)\n",
    "- dataset:数据集本身\n",
    "- batch_size:我们希望在迭代时传递到训练循环中的样本数\n",
    "- shuffle:我们可以选择在每个epoch期间随机打乱数据\n",
    "shuffle 选项很有帮助，因为您的数据集中按顺序排列了许多相同的标签。例如，如果您有一个包含狗和猫图片的数据集，那么如果每个 mini-batch 都包含狗和猫的混合示例，那就太好了。一些数据集是按顺序存储的，因此在构建批次时，每个批次最终都只有狗或猫，而不是混合的。将 shuffle 设置为 true 可以在训练期间消除该问题。"
   ],
   "metadata": {
    "collapsed": false,
    "pycharm": {
     "name": "#%% md\n"
    }
   }
  },
  {
   "cell_type": "markdown",
   "source": [],
   "metadata": {
    "collapsed": false
   }
  },
  {
   "cell_type": "code",
   "execution_count": null,
   "outputs": [],
   "source": [
    "from torchvision import datasets\n",
    "from torchvision import transforms\n",
    "from torch.utils.data import DataLoader"
   ],
   "metadata": {
    "collapsed": false,
    "pycharm": {
     "name": "#%%\n",
     "is_executing": true
    }
   }
  },
  {
   "cell_type": "code",
   "execution_count": null,
   "outputs": [],
   "source": [
    "# Grab the CIFAR10 Dataset\n",
    "dataset_train = datasets.CIFAR10('../data', train=True, download=False,\n",
    "                                 transform=transforms.Compose([transforms.ToTensor()]))\n",
    "\n",
    "dataset_test = datasets.CIFAR10('../data', train=False, download=False,\n",
    "                                transform=transforms.Compose([transforms.ToTensor()]))"
   ],
   "metadata": {
    "collapsed": false,
    "pycharm": {
     "name": "#%%\n",
     "is_executing": true
    }
   }
  },
  {
   "cell_type": "markdown",
   "source": [
    "- root:表示CIFAR数据的加载目录\n",
    "- train:表示是否加载数据库的训练集，False的时候加载测试集\n",
    "- download:表示是否自动下载cifar数据集\n",
    "- transform:表示是否需要对数据进行预处理，None为不进行预处理"
   ],
   "metadata": {
    "collapsed": false,
    "pycharm": {
     "name": "#%% md\n"
    }
   }
  },
  {
   "cell_type": "code",
   "execution_count": null,
   "outputs": [],
   "source": [
    "# Create test and traing dataloader with dataset\n",
    "train_loader = DataLoader(dataset_train, batch_size=64, shuffle=True)\n",
    "\n",
    "test_loader = DataLoader(dataset_test, batch_size=64, shuffle=False)\n"
   ],
   "metadata": {
    "collapsed": false,
    "pycharm": {
     "name": "#%%\n",
     "is_executing": true
    }
   }
  },
  {
   "cell_type": "code",
   "execution_count": null,
   "outputs": [],
   "source": [
    "!pip install efficientnet_pytorch\n",
    "from torch import nn\n",
    "from torch import optim\n",
    "from efficientnet_pytorch import EfficientNet\n",
    "model = EfficientNet.from_pretrained('efficientnet-b0', num_classes=10)"
   ],
   "metadata": {
    "collapsed": false,
    "pycharm": {
     "name": "#%%\n"
    }
   }
  },
  {
   "cell_type": "code",
   "execution_count": null,
   "outputs": [],
   "source": [
    "# Define criterion and optimizer\n",
    "criterion = nn.CrossEntropyLoss()\n",
    "optimizer = optim.RMSprop(model.parameters(), lr=0.0002)\n",
    "\n",
    "# Training Loop with Loader\n",
    "for x, y in train_loader:\n",
    "    optimizer.zero_grad()\n",
    "    pred = model(x)\n",
    "    loss = criterion(pred,y)\n",
    "    loss.backward()\n",
    "    optimizer.step()\n",
    "\n",
    "    print (loss.item())"
   ],
   "metadata": {
    "collapsed": false,
    "pycharm": {
     "name": "#%%\n",
     "is_executing": true
    }
   }
  },
  {
   "cell_type": "code",
   "execution_count": null,
   "outputs": [],
   "source": [
    "# Test model using test_loader\n",
    "totalLoss=0\n",
    "for x, y in test_loader:\n",
    "    pred = model(x)\n",
    "    loss = criterion(pred,y)\n",
    "    totalLoss+=loss.item()"
   ],
   "metadata": {
    "collapsed": false,
    "pycharm": {
     "name": "#%%\n"
    }
   }
  },
  {
   "cell_type": "code",
   "execution_count": null,
   "outputs": [],
   "source": [
    "totalLoss"
   ],
   "metadata": {
    "collapsed": false,
    "pycharm": {
     "name": "#%%\n"
    }
   }
  },
  {
   "cell_type": "markdown",
   "source": [
    "# DataLoader高级选项\n"
   ],
   "metadata": {
    "collapsed": false,
    "pycharm": {
     "name": "#%% md\n"
    }
   }
  },
  {
   "cell_type": "code",
   "execution_count": null,
   "outputs": [],
   "source": [],
   "metadata": {
    "collapsed": false,
    "pycharm": {
     "name": "#%%\n"
    }
   }
  }
 ],
 "metadata": {
  "kernelspec": {
   "display_name": "Python 3",
   "language": "python",
   "name": "python3"
  },
  "language_info": {
   "codemirror_mode": {
    "name": "ipython",
    "version": 2
   },
   "file_extension": ".py",
   "mimetype": "text/x-python",
   "name": "python",
   "nbconvert_exporter": "python",
   "pygments_lexer": "ipython2",
   "version": "2.7.6"
  }
 },
 "nbformat": 4,
 "nbformat_minor": 0
}